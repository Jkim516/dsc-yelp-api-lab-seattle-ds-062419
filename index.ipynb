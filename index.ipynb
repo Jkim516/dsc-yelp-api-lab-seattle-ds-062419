{
 "cells": [
  {
   "cell_type": "markdown",
   "metadata": {},
   "source": [
    "# Yelp API - Lab\n",
    "\n",
    "\n",
    "## Introduction \n",
    "\n",
    "Now that we've seen how the Yelp API works and some basic Folium visualizations, it's time to put those skills to work in order to create a working map! Taking things a step further, you'll also independently explore how to perform pagination in order to retrieve a full results set from the Yelp API!\n",
    "\n",
    "## Objectives\n",
    "\n",
    "You will be able to: \n",
    "* Create HTTP requests to get data from Yelp API\n",
    "* Parse HTTP responses and perform data analysis on the data returned\n",
    "* Perform pagination to retrieve troves of data!\n",
    "* Create a simple geographical system on to view information about selected businesses, at a given location. \n",
    "\n",
    "## Problem Introduction\n",
    "\n",
    "You've now worked with some API calls, but we have yet to see how to retrieve a more complete dataset in a programmatic manner. Returning to the Yelp API, the [documentation](https://www.yelp.com/developers/documentation/v3/business_search) also provides us details regarding the API limits. These often include details about the number of requests a user is allowed to make within a specified time limit and the maximum number of results to be returned. In this case, we are told that any request has a maximum of 50 results per request and defaults to 20. Furthermore, any search will be limited to a total of 1000 results. To retrieve all 1000 of these results, we would have to page through the results piece by piece, retrieving 50 at a time. Processes such as these are often referred to as pagination.\n",
    "\n",
    "In this lab, you will define a search and then paginate over the results to retrieve all of the results. You'll then parse these responses as a DataFrame (for further exploration) and create a map using Folium to visualize the results geographically.\n",
    "\n",
    "## Part I - Make the Initial Request\n",
    "\n",
    "Start by making an initial request to the Yelp API. Your search must include at least 2 parameters: **term** and **location**. For example, you might search for pizza restaurants in NYC. The term and location is up to you, but make the request below."
   ]
  },
  {
   "cell_type": "code",
<<<<<<< HEAD
   "execution_count": 1,
=======
   "execution_count": 3,
>>>>>>> b0799a155530825d061b41c0b6bb503bf8779b63
   "metadata": {},
   "outputs": [
    {
     "name": "stdout",
     "output_type": "stream",
     "text": [
      "CONTRIBUTING.md  images       index.ipynb  README.md\r\n",
      "data.json\t index_files  LICENSE.md\r\n"
     ]
    }
   ],
   "source": [
<<<<<<< HEAD
    "#Your code here\n",
    "import json\n",
    "import requests\n",
    "\n",
    "def get_keys(path):\n",
    "    with open(path) as f:\n",
    "        return json.load(f)\n",
    "\n",
    "keys = get_keys(\"/Users/flatiron/Flatiron/4week/api/dsc-using-yelp-api-codealong-seattle-ds-062419/.secret/yelp_api.json\")\n",
    "\n",
    "api_key = keys['api_key']"
   ]
  },
  {
   "cell_type": "code",
   "execution_count": 10,
   "metadata": {},
   "outputs": [
    {
     "name": "stdout",
     "output_type": "stream",
     "text": [
      "<Response [200]>\n",
      "<class 'str'>\n",
      "{\"businesses\": [{\"id\": \"FW0AJpVxlvOwYE-87v3Ocg\", \"alias\": \"korean-bamboo-seattle-3\", \"name\": \"Korean Bamboo\", \"image_url\": \"https://s3-media3.fl.yelpcdn.com/bphoto/DZy4kSFYiAUMsoJjm4J-Ow/o.jpg\", \"is_closed\": false, \"url\": \"https://www.yelp.com/biz/korean-bamboo-seattle-3?adjust_creative=JEI8-1IMQ3A2ZeRXngg7ew&utm_campaign=yelp_api_v3&utm_medium=api_v3_business_search&utm_source=JEI8-1IMQ3A2ZeRXngg7ew\", \"review_count\": 309, \"categories\": [{\"alias\": \"korean\", \"title\": \"Korean\"}], \"rating\": 4.0, \"coordinates\": {\"latitude\": 47.6147414, \"longitude\": -122.344547}, \"transactions\": [], \"price\": \"$$\", \"location\": {\"address1\": \"2236 3rd Ave\", \"address2\": \"\", \"address3\": null, \"city\": \"Seattle\", \"zip_code\": \"98121\", \"country\": \"US\", \"state\": \"WA\", \"display_address\": [\"2236 3rd Ave\", \"Seattle, WA 98121\"]}, \"phone\": \"+12064439898\", \"display_phone\": \"(206) 443-9898\", \"distance\": 1366.90208337034}, {\"id\": \"zIczxp6kS-2kyV937xBnAA\", \"alias\": \"stone-korean-restaurant-seattle-2\", \"name\": \"Stone Korean Re\n"
     ]
    }
   ],
   "source": [
    "term = 'Korean'\n",
    "location = 'Seattle WA'\n",
    "SEARCH_LIMIT = 10\n",
    "\n",
    "url = 'https://api.yelp.com/v3/businesses/search'\n",
    "\n",
    "headers = {\n",
    "        'Authorization': 'Bearer {}'.format(api_key),\n",
    "    }\n",
    "\n",
    "url_params = {\n",
    "                'term': term.replace(' ', '+'),\n",
    "                'location': location.replace(' ', '+'),\n",
    "                'limit': SEARCH_LIMIT\n",
    "            }\n",
    "response = requests.get(url, headers=headers, params=url_params)\n",
    "print(response)\n",
    "print(type(response.text))\n",
    "print(response.text[:1000])"
=======
    "#Your code here\n"
>>>>>>> b0799a155530825d061b41c0b6bb503bf8779b63
   ]
  },
  {
   "cell_type": "markdown",
   "metadata": {},
   "source": [
    "## Pagination\n",
    "\n",
    "Now that you have an initial response, you can examine the contents of the json container. For example, you might start with ```response.json().keys()```. Here, you'll see a key for `'total'`, which tells you the full number of matching results given your query parameters. Write a loop (or ideally a function) which then makes successive API calls using the offset parameter to retrieve all of the results (or 5000 for a particularly large result set) for the original query. As you do this, be mindful of how you store the data. Your final goal will be to reformat the data concerning the businesses themselves into a pandas DataFrame from the json objects.\n",
    "\n",
    "**Note: be mindful of the API rate limits. You can only make 5000 requests per day, and are also can make requests too fast. Start prototyping small before running a loop that could be faulty. You can also use time.sleep(n) to add delays. For more details see https://www.yelp.com/developers/documentation/v3/rate_limiting.**"
   ]
  },
  {
   "cell_type": "code",
<<<<<<< HEAD
   "execution_count": 11,
=======
   "execution_count": 1,
>>>>>>> b0799a155530825d061b41c0b6bb503bf8779b63
   "metadata": {},
   "outputs": [
    {
     "name": "stdout",
     "output_type": "stream",
     "text": [
<<<<<<< HEAD
      "businesses\n",
      "<class 'list'>\n",
      "\n",
      "\n",
      "\n",
      "total\n",
      "<class 'int'>\n",
      "\n",
      "\n",
      "\n",
      "region\n",
      "<class 'dict'>\n",
      "\n",
      "\n",
      "\n"
     ]
    }
   ],
   "source": [
    "# Your code here; use a function or loop to retrieve all the results from your original request\n",
    "for key in response.json().keys():\n",
    "    print(key)\n",
    "    value = response.json()[key] #Use standard dictionary formatting\n",
    "    print(type(value)) #What type is it?\n",
    "    print('\\n\\n') #Separate out data"
   ]
  },
  {
   "cell_type": "code",
   "execution_count": 12,
   "metadata": {},
   "outputs": [
    {
     "data": {
      "text/plain": [
       "[{'id': 'FW0AJpVxlvOwYE-87v3Ocg',\n",
       "  'alias': 'korean-bamboo-seattle-3',\n",
       "  'name': 'Korean Bamboo',\n",
       "  'image_url': 'https://s3-media3.fl.yelpcdn.com/bphoto/DZy4kSFYiAUMsoJjm4J-Ow/o.jpg',\n",
       "  'is_closed': False,\n",
       "  'url': 'https://www.yelp.com/biz/korean-bamboo-seattle-3?adjust_creative=JEI8-1IMQ3A2ZeRXngg7ew&utm_campaign=yelp_api_v3&utm_medium=api_v3_business_search&utm_source=JEI8-1IMQ3A2ZeRXngg7ew',\n",
       "  'review_count': 309,\n",
       "  'categories': [{'alias': 'korean', 'title': 'Korean'}],\n",
       "  'rating': 4.0,\n",
       "  'coordinates': {'latitude': 47.6147414, 'longitude': -122.344547},\n",
       "  'transactions': [],\n",
       "  'price': '$$',\n",
       "  'location': {'address1': '2236 3rd Ave',\n",
       "   'address2': '',\n",
       "   'address3': None,\n",
       "   'city': 'Seattle',\n",
       "   'zip_code': '98121',\n",
       "   'country': 'US',\n",
       "   'state': 'WA',\n",
       "   'display_address': ['2236 3rd Ave', 'Seattle, WA 98121']},\n",
       "  'phone': '+12064439898',\n",
       "  'display_phone': '(206) 443-9898',\n",
       "  'distance': 1366.90208337034},\n",
       " {'id': 'zIczxp6kS-2kyV937xBnAA',\n",
       "  'alias': 'stone-korean-restaurant-seattle-2',\n",
       "  'name': 'Stone Korean Restaurant',\n",
       "  'image_url': 'https://s3-media3.fl.yelpcdn.com/bphoto/byHFa5wS63_LRVWWpdYeXw/o.jpg',\n",
       "  'is_closed': False,\n",
       "  'url': 'https://www.yelp.com/biz/stone-korean-restaurant-seattle-2?adjust_creative=JEI8-1IMQ3A2ZeRXngg7ew&utm_campaign=yelp_api_v3&utm_medium=api_v3_business_search&utm_source=JEI8-1IMQ3A2ZeRXngg7ew',\n",
       "  'review_count': 99,\n",
       "  'categories': [{'alias': 'korean', 'title': 'Korean'},\n",
       "   {'alias': 'bbq', 'title': 'Barbeque'}],\n",
       "  'rating': 4.0,\n",
       "  'coordinates': {'latitude': 47.6272900099843,\n",
       "   'longitude': -122.342090047896},\n",
       "  'transactions': [],\n",
       "  'price': '$$',\n",
       "  'location': {'address1': '900 Dexter Ave N',\n",
       "   'address2': '',\n",
       "   'address3': None,\n",
       "   'city': 'Seattle',\n",
       "   'zip_code': '98109',\n",
       "   'country': 'US',\n",
       "   'state': 'WA',\n",
       "   'display_address': ['900 Dexter Ave N', 'Seattle, WA 98109']},\n",
       "  'phone': '+12067172864',\n",
       "  'display_phone': '(206) 717-2864',\n",
       "  'distance': 535.1879253824056}]"
      ]
     },
     "execution_count": 12,
     "metadata": {},
     "output_type": "execute_result"
    }
   ],
   "source": [
    "response.json()['businesses'][:2]"
   ]
  },
  {
   "cell_type": "code",
   "execution_count": 13,
   "metadata": {},
   "outputs": [
    {
     "data": {
      "text/plain": [
       "660"
      ]
     },
     "execution_count": 13,
     "metadata": {},
     "output_type": "execute_result"
    }
   ],
   "source": [
    "response.json()['total']"
   ]
  },
  {
   "cell_type": "code",
   "execution_count": 14,
   "metadata": {},
   "outputs": [
    {
     "data": {
      "text/plain": [
       "{'center': {'longitude': -122.33551025390625, 'latitude': 47.62541904760501}}"
      ]
     },
     "execution_count": 14,
     "metadata": {},
     "output_type": "execute_result"
    }
   ],
   "source": [
    "response.json()['region']"
=======
      "/home/static-reducer-2462/dsc-yelp-api-lab-seattle-ds-062419\r\n"
     ]
    }
   ],
   "source": [
    "# Your code here; use a function or loop to retrieve all the results from your original request\n",
    "!pwd"
>>>>>>> b0799a155530825d061b41c0b6bb503bf8779b63
   ]
  },
  {
   "cell_type": "markdown",
   "metadata": {},
   "source": [
    "## Exploratory Analysis\n",
    "\n",
    "Take the restaurants from the previous question and do an initial exploratory analysis. At minimum, this should include looking at the distribution of features such as price, rating and number of reviews as well as the relations between these dimensions."
   ]
  },
  {
   "cell_type": "code",
   "execution_count": 15,
   "metadata": {
    "scrolled": true
   },
   "outputs": [
    {
     "name": "stdout",
     "output_type": "stream",
     "text": [
      "10\n",
      "Index(['alias', 'categories', 'coordinates', 'display_phone', 'distance', 'id',\n",
      "       'image_url', 'is_closed', 'location', 'name', 'phone', 'price',\n",
      "       'rating', 'review_count', 'transactions', 'url'],\n",
      "      dtype='object')\n"
     ]
    },
    {
     "data": {
      "text/html": [
       "<div>\n",
       "<style scoped>\n",
       "    .dataframe tbody tr th:only-of-type {\n",
       "        vertical-align: middle;\n",
       "    }\n",
       "\n",
       "    .dataframe tbody tr th {\n",
       "        vertical-align: top;\n",
       "    }\n",
       "\n",
       "    .dataframe thead th {\n",
       "        text-align: right;\n",
       "    }\n",
       "</style>\n",
       "<table border=\"1\" class=\"dataframe\">\n",
       "  <thead>\n",
       "    <tr style=\"text-align: right;\">\n",
       "      <th></th>\n",
       "      <th>alias</th>\n",
       "      <th>categories</th>\n",
       "      <th>coordinates</th>\n",
       "      <th>display_phone</th>\n",
       "      <th>distance</th>\n",
       "      <th>id</th>\n",
       "      <th>image_url</th>\n",
       "      <th>is_closed</th>\n",
       "      <th>location</th>\n",
       "      <th>name</th>\n",
       "      <th>phone</th>\n",
       "      <th>price</th>\n",
       "      <th>rating</th>\n",
       "      <th>review_count</th>\n",
       "      <th>transactions</th>\n",
       "      <th>url</th>\n",
       "    </tr>\n",
       "  </thead>\n",
       "  <tbody>\n",
       "    <tr>\n",
       "      <th>0</th>\n",
       "      <td>korean-bamboo-seattle-3</td>\n",
       "      <td>[{'alias': 'korean', 'title': 'Korean'}]</td>\n",
       "      <td>{'latitude': 47.6147414, 'longitude': -122.344...</td>\n",
       "      <td>(206) 443-9898</td>\n",
       "      <td>1366.902083</td>\n",
       "      <td>FW0AJpVxlvOwYE-87v3Ocg</td>\n",
       "      <td>https://s3-media3.fl.yelpcdn.com/bphoto/DZy4kS...</td>\n",
       "      <td>False</td>\n",
       "      <td>{'address1': '2236 3rd Ave', 'address2': '', '...</td>\n",
       "      <td>Korean Bamboo</td>\n",
       "      <td>+12064439898</td>\n",
       "      <td>$$</td>\n",
       "      <td>4.0</td>\n",
       "      <td>309</td>\n",
       "      <td>[]</td>\n",
       "      <td>https://www.yelp.com/biz/korean-bamboo-seattle...</td>\n",
       "    </tr>\n",
       "    <tr>\n",
       "      <th>1</th>\n",
       "      <td>stone-korean-restaurant-seattle-2</td>\n",
       "      <td>[{'alias': 'korean', 'title': 'Korean'}, {'ali...</td>\n",
       "      <td>{'latitude': 47.6272900099843, 'longitude': -1...</td>\n",
       "      <td>(206) 717-2864</td>\n",
       "      <td>535.187925</td>\n",
       "      <td>zIczxp6kS-2kyV937xBnAA</td>\n",
       "      <td>https://s3-media3.fl.yelpcdn.com/bphoto/byHFa5...</td>\n",
       "      <td>False</td>\n",
       "      <td>{'address1': '900 Dexter Ave N', 'address2': '...</td>\n",
       "      <td>Stone Korean Restaurant</td>\n",
       "      <td>+12067172864</td>\n",
       "      <td>$$</td>\n",
       "      <td>4.0</td>\n",
       "      <td>99</td>\n",
       "      <td>[]</td>\n",
       "      <td>https://www.yelp.com/biz/stone-korean-restaura...</td>\n",
       "    </tr>\n",
       "    <tr>\n",
       "      <th>2</th>\n",
       "      <td>chan-seattle-seattle-2</td>\n",
       "      <td>[{'alias': 'asianfusion', 'title': 'Asian Fusi...</td>\n",
       "      <td>{'latitude': 47.6098823547363, 'longitude': -1...</td>\n",
       "      <td>(206) 354-3564</td>\n",
       "      <td>1783.823830</td>\n",
       "      <td>h1Q0Wkx5TUUZeVjJrXTwmQ</td>\n",
       "      <td>https://s3-media2.fl.yelpcdn.com/bphoto/tFsERm...</td>\n",
       "      <td>False</td>\n",
       "      <td>{'address1': '86 Pine St', 'address2': '', 'ad...</td>\n",
       "      <td>Chan Seattle</td>\n",
       "      <td>+12063543564</td>\n",
       "      <td>$$</td>\n",
       "      <td>4.5</td>\n",
       "      <td>832</td>\n",
       "      <td>[]</td>\n",
       "      <td>https://www.yelp.com/biz/chan-seattle-seattle-...</td>\n",
       "    </tr>\n",
       "    <tr>\n",
       "      <th>3</th>\n",
       "      <td>chili-and-sesame-korean-kitchen-seattle-2</td>\n",
       "      <td>[{'alias': 'korean', 'title': 'Korean'}]</td>\n",
       "      <td>{'latitude': 47.6150474, 'longitude': -122.347...</td>\n",
       "      <td>(206) 443-2013</td>\n",
       "      <td>1479.899727</td>\n",
       "      <td>SBLkXvKI18rMAYPK_t7VJA</td>\n",
       "      <td>https://s3-media2.fl.yelpcdn.com/bphoto/S1lJWf...</td>\n",
       "      <td>False</td>\n",
       "      <td>{'address1': '2429 2nd Ave', 'address2': '', '...</td>\n",
       "      <td>Chili &amp; Sesame Korean Kitchen</td>\n",
       "      <td>+12064432013</td>\n",
       "      <td>$$</td>\n",
       "      <td>4.0</td>\n",
       "      <td>376</td>\n",
       "      <td>[delivery, pickup]</td>\n",
       "      <td>https://www.yelp.com/biz/chili-and-sesame-kore...</td>\n",
       "    </tr>\n",
       "    <tr>\n",
       "      <th>4</th>\n",
       "      <td>one-pot-seattle-3</td>\n",
       "      <td>[{'alias': 'korean', 'title': 'Korean'}, {'ali...</td>\n",
       "      <td>{'latitude': 47.59805, 'longitude': -122.31699}</td>\n",
       "      <td>(206) 876-9282</td>\n",
       "      <td>3343.255123</td>\n",
       "      <td>vjeyNatt5L0F5qcHgKZeWw</td>\n",
       "      <td>https://s3-media1.fl.yelpcdn.com/bphoto/VUOk4C...</td>\n",
       "      <td>False</td>\n",
       "      <td>{'address1': '506 12th Ave S', 'address2': Non...</td>\n",
       "      <td>One Pot</td>\n",
       "      <td>+12068769282</td>\n",
       "      <td>$$</td>\n",
       "      <td>4.5</td>\n",
       "      <td>239</td>\n",
       "      <td>[delivery]</td>\n",
       "      <td>https://www.yelp.com/biz/one-pot-seattle-3?adj...</td>\n",
       "    </tr>\n",
       "  </tbody>\n",
       "</table>\n",
       "</div>"
      ],
      "text/plain": [
       "                                       alias  \\\n",
       "0                    korean-bamboo-seattle-3   \n",
       "1          stone-korean-restaurant-seattle-2   \n",
       "2                     chan-seattle-seattle-2   \n",
       "3  chili-and-sesame-korean-kitchen-seattle-2   \n",
       "4                          one-pot-seattle-3   \n",
       "\n",
       "                                          categories  \\\n",
       "0           [{'alias': 'korean', 'title': 'Korean'}]   \n",
       "1  [{'alias': 'korean', 'title': 'Korean'}, {'ali...   \n",
       "2  [{'alias': 'asianfusion', 'title': 'Asian Fusi...   \n",
       "3           [{'alias': 'korean', 'title': 'Korean'}]   \n",
       "4  [{'alias': 'korean', 'title': 'Korean'}, {'ali...   \n",
       "\n",
       "                                         coordinates   display_phone  \\\n",
       "0  {'latitude': 47.6147414, 'longitude': -122.344...  (206) 443-9898   \n",
       "1  {'latitude': 47.6272900099843, 'longitude': -1...  (206) 717-2864   \n",
       "2  {'latitude': 47.6098823547363, 'longitude': -1...  (206) 354-3564   \n",
       "3  {'latitude': 47.6150474, 'longitude': -122.347...  (206) 443-2013   \n",
       "4    {'latitude': 47.59805, 'longitude': -122.31699}  (206) 876-9282   \n",
       "\n",
       "      distance                      id  \\\n",
       "0  1366.902083  FW0AJpVxlvOwYE-87v3Ocg   \n",
       "1   535.187925  zIczxp6kS-2kyV937xBnAA   \n",
       "2  1783.823830  h1Q0Wkx5TUUZeVjJrXTwmQ   \n",
       "3  1479.899727  SBLkXvKI18rMAYPK_t7VJA   \n",
       "4  3343.255123  vjeyNatt5L0F5qcHgKZeWw   \n",
       "\n",
       "                                           image_url  is_closed  \\\n",
       "0  https://s3-media3.fl.yelpcdn.com/bphoto/DZy4kS...      False   \n",
       "1  https://s3-media3.fl.yelpcdn.com/bphoto/byHFa5...      False   \n",
       "2  https://s3-media2.fl.yelpcdn.com/bphoto/tFsERm...      False   \n",
       "3  https://s3-media2.fl.yelpcdn.com/bphoto/S1lJWf...      False   \n",
       "4  https://s3-media1.fl.yelpcdn.com/bphoto/VUOk4C...      False   \n",
       "\n",
       "                                            location  \\\n",
       "0  {'address1': '2236 3rd Ave', 'address2': '', '...   \n",
       "1  {'address1': '900 Dexter Ave N', 'address2': '...   \n",
       "2  {'address1': '86 Pine St', 'address2': '', 'ad...   \n",
       "3  {'address1': '2429 2nd Ave', 'address2': '', '...   \n",
       "4  {'address1': '506 12th Ave S', 'address2': Non...   \n",
       "\n",
       "                            name         phone price  rating  review_count  \\\n",
       "0                  Korean Bamboo  +12064439898    $$     4.0           309   \n",
       "1        Stone Korean Restaurant  +12067172864    $$     4.0            99   \n",
       "2                   Chan Seattle  +12063543564    $$     4.5           832   \n",
       "3  Chili & Sesame Korean Kitchen  +12064432013    $$     4.0           376   \n",
       "4                        One Pot  +12068769282    $$     4.5           239   \n",
       "\n",
       "         transactions                                                url  \n",
       "0                  []  https://www.yelp.com/biz/korean-bamboo-seattle...  \n",
       "1                  []  https://www.yelp.com/biz/stone-korean-restaura...  \n",
       "2                  []  https://www.yelp.com/biz/chan-seattle-seattle-...  \n",
       "3  [delivery, pickup]  https://www.yelp.com/biz/chili-and-sesame-kore...  \n",
       "4          [delivery]  https://www.yelp.com/biz/one-pot-seattle-3?adj...  "
      ]
     },
     "execution_count": 15,
     "metadata": {},
     "output_type": "execute_result"
    }
   ],
   "source": [
    "#Your code here\n",
    "import pandas as pd \n",
    "\n",
    "df = pd.DataFrame.from_dict(response.json()['businesses'])\n",
    "print(len(df))\n",
    "print(df.columns)\n",
    "df.head()"
   ]
  },
  {
   "cell_type": "code",
   "execution_count": 34,
   "metadata": {},
   "outputs": [
    {
     "name": "stdout",
     "output_type": "stream",
     "text": [
      "Price\n",
      "$$\n",
      "$\n",
      "rating:\n",
      "4.5\n",
      "4.0\n",
      "Mean_Rating: 4.2\n",
      "number of Reviews:\n",
      "832\n",
      "66\n"
     ]
    }
   ],
   "source": [
    "print(\"Price\")\n",
    "print(df['price'].max())\n",
    "print(df['price'].min())\n",
    "\n",
    "print(\"rating:\")\n",
    "print(df['rating'].max())\n",
    "print(df['rating'].min())\n",
    "print(f\"Mean_Rating: {df['rating'].mean()}\")\n",
    "\n",
    "print(\"number of Reviews:\")\n",
    "print(df['review_count'].max())\n",
    "print(df['review_count'].min())"
   ]
  },
  {
   "cell_type": "code",
   "execution_count": 49,
   "metadata": {},
   "outputs": [
    {
     "data": {
      "text/html": [
       "<div>\n",
       "<style scoped>\n",
       "    .dataframe tbody tr th:only-of-type {\n",
       "        vertical-align: middle;\n",
       "    }\n",
       "\n",
       "    .dataframe tbody tr th {\n",
       "        vertical-align: top;\n",
       "    }\n",
       "\n",
       "    .dataframe thead th {\n",
       "        text-align: right;\n",
       "    }\n",
       "</style>\n",
       "<table border=\"1\" class=\"dataframe\">\n",
       "  <thead>\n",
       "    <tr style=\"text-align: right;\">\n",
       "      <th></th>\n",
       "      <th>alias</th>\n",
       "      <th>categories</th>\n",
       "      <th>coordinates</th>\n",
       "      <th>display_phone</th>\n",
       "      <th>distance</th>\n",
       "      <th>id</th>\n",
       "      <th>image_url</th>\n",
       "      <th>is_closed</th>\n",
       "      <th>location</th>\n",
       "      <th>name</th>\n",
       "      <th>phone</th>\n",
       "      <th>price</th>\n",
       "      <th>rating</th>\n",
       "      <th>review_count</th>\n",
       "      <th>transactions</th>\n",
       "      <th>url</th>\n",
       "    </tr>\n",
       "  </thead>\n",
       "  <tbody>\n",
       "    <tr>\n",
       "      <th>2</th>\n",
       "      <td>chan-seattle-seattle-2</td>\n",
       "      <td>[{'alias': 'asianfusion', 'title': 'Asian Fusi...</td>\n",
       "      <td>{'latitude': 47.6098823547363, 'longitude': -1...</td>\n",
       "      <td>(206) 354-3564</td>\n",
       "      <td>1783.823830</td>\n",
       "      <td>h1Q0Wkx5TUUZeVjJrXTwmQ</td>\n",
       "      <td>https://s3-media2.fl.yelpcdn.com/bphoto/tFsERm...</td>\n",
       "      <td>False</td>\n",
       "      <td>{'address1': '86 Pine St', 'address2': '', 'ad...</td>\n",
       "      <td>Chan Seattle</td>\n",
       "      <td>+12063543564</td>\n",
       "      <td>$$</td>\n",
       "      <td>4.5</td>\n",
       "      <td>832</td>\n",
       "      <td>[]</td>\n",
       "      <td>https://www.yelp.com/biz/chan-seattle-seattle-...</td>\n",
       "    </tr>\n",
       "    <tr>\n",
       "      <th>8</th>\n",
       "      <td>ummas-lunch-box-seattle</td>\n",
       "      <td>[{'alias': 'korean', 'title': 'Korean'}, {'ali...</td>\n",
       "      <td>{'latitude': 47.60884, 'longitude': -122.33425}</td>\n",
       "      <td>(206) 854-3166</td>\n",
       "      <td>1844.116521</td>\n",
       "      <td>1JAi_6_J7zs3RBKeKooP0g</td>\n",
       "      <td>https://s3-media3.fl.yelpcdn.com/bphoto/CmrXFd...</td>\n",
       "      <td>False</td>\n",
       "      <td>{'address1': '1301 5th Ave', 'address2': '', '...</td>\n",
       "      <td>Umma's Lunch Box</td>\n",
       "      <td>+12068543166</td>\n",
       "      <td>$</td>\n",
       "      <td>4.5</td>\n",
       "      <td>429</td>\n",
       "      <td>[]</td>\n",
       "      <td>https://www.yelp.com/biz/ummas-lunch-box-seatt...</td>\n",
       "    </tr>\n",
       "  </tbody>\n",
       "</table>\n",
       "</div>"
      ],
      "text/plain": [
       "                     alias                                         categories  \\\n",
       "2   chan-seattle-seattle-2  [{'alias': 'asianfusion', 'title': 'Asian Fusi...   \n",
       "8  ummas-lunch-box-seattle  [{'alias': 'korean', 'title': 'Korean'}, {'ali...   \n",
       "\n",
       "                                         coordinates   display_phone  \\\n",
       "2  {'latitude': 47.6098823547363, 'longitude': -1...  (206) 354-3564   \n",
       "8    {'latitude': 47.60884, 'longitude': -122.33425}  (206) 854-3166   \n",
       "\n",
       "      distance                      id  \\\n",
       "2  1783.823830  h1Q0Wkx5TUUZeVjJrXTwmQ   \n",
       "8  1844.116521  1JAi_6_J7zs3RBKeKooP0g   \n",
       "\n",
       "                                           image_url  is_closed  \\\n",
       "2  https://s3-media2.fl.yelpcdn.com/bphoto/tFsERm...      False   \n",
       "8  https://s3-media3.fl.yelpcdn.com/bphoto/CmrXFd...      False   \n",
       "\n",
       "                                            location              name  \\\n",
       "2  {'address1': '86 Pine St', 'address2': '', 'ad...      Chan Seattle   \n",
       "8  {'address1': '1301 5th Ave', 'address2': '', '...  Umma's Lunch Box   \n",
       "\n",
       "          phone price  rating  review_count transactions  \\\n",
       "2  +12063543564    $$     4.5           832           []   \n",
       "8  +12068543166     $     4.5           429           []   \n",
       "\n",
       "                                                 url  \n",
       "2  https://www.yelp.com/biz/chan-seattle-seattle-...  \n",
       "8  https://www.yelp.com/biz/ummas-lunch-box-seatt...  "
      ]
     },
     "execution_count": 49,
     "metadata": {},
     "output_type": "execute_result"
    }
   ],
   "source": [
    "reliable_res = df[(df['review_count'] > 300) & (df['rating'] == 4.5)]\n",
    "# rating_df = df[df['rating'] > 4.2]\n",
    "# rating_df\n",
    "\n",
    "reliable_res"
   ]
  },
  {
   "cell_type": "code",
   "execution_count": null,
   "metadata": {},
   "outputs": [],
   "source": []
  },
  {
   "cell_type": "markdown",
   "metadata": {},
   "source": [
    "## Mapping\n",
    "\n",
    "Look at the initial Yelp example and try and make a map using Folium of the restaurants you retrieved. Be sure to also add popups to the markers giving some basic information such as name, rating and price."
   ]
  },
  {
   "cell_type": "code",
   "execution_count": 53,
   "metadata": {},
   "outputs": [
    {
     "name": "stdout",
     "output_type": "stream",
     "text": [
      "Collecting folium\n",
      "  Using cached https://files.pythonhosted.org/packages/4f/86/1ab30184cb60bc2b95deffe2bd86b8ddbab65a4fac9f7313c278c6e8d049/folium-0.9.1-py2.py3-none-any.whl\n",
      "Requirement already satisfied: jinja2>=2.9 in /anaconda3/envs/learn-env/lib/python3.7/site-packages (from folium) (2.10.1)\n",
      "Requirement already satisfied: requests in /anaconda3/envs/learn-env/lib/python3.7/site-packages (from folium) (2.19.1)\n",
      "Requirement already satisfied: numpy in /anaconda3/envs/learn-env/lib/python3.7/site-packages (from folium) (1.16.4)\n",
      "Collecting branca>=0.3.0 (from folium)\n",
      "  Using cached https://files.pythonhosted.org/packages/63/36/1c93318e9653f4e414a2e0c3b98fc898b4970e939afeedeee6075dd3b703/branca-0.3.1-py3-none-any.whl\n",
      "Requirement already satisfied: MarkupSafe>=0.23 in /anaconda3/envs/learn-env/lib/python3.7/site-packages (from jinja2>=2.9->folium) (1.1.1)\n",
      "Requirement already satisfied: urllib3<1.24,>=1.21.1 in /anaconda3/envs/learn-env/lib/python3.7/site-packages (from requests->folium) (1.23)\n",
      "Requirement already satisfied: certifi>=2017.4.17 in /anaconda3/envs/learn-env/lib/python3.7/site-packages (from requests->folium) (2019.6.16)\n",
      "Requirement already satisfied: chardet<3.1.0,>=3.0.2 in /anaconda3/envs/learn-env/lib/python3.7/site-packages (from requests->folium) (3.0.4)\n",
      "Requirement already satisfied: idna<2.8,>=2.5 in /anaconda3/envs/learn-env/lib/python3.7/site-packages (from requests->folium) (2.7)\n",
      "Requirement already satisfied: six in /anaconda3/envs/learn-env/lib/python3.7/site-packages (from branca>=0.3.0->folium) (1.11.0)\n",
      "Installing collected packages: branca, folium\n",
      "Successfully installed branca-0.3.1 folium-0.9.1\n"
     ]
    }
   ],
   "source": [
    "#Your code here\n",
    "!pip install folium"
   ]
  },
  {
   "cell_type": "code",
   "execution_count": 60,
   "metadata": {},
   "outputs": [
    {
     "data": {
      "text/plain": [
       "2    {'latitude': 47.6098823547363, 'longitude': -1...\n",
       "8      {'latitude': 47.60884, 'longitude': -122.33425}\n",
       "Name: coordinates, dtype: object"
      ]
     },
     "execution_count": 60,
     "metadata": {},
     "output_type": "execute_result"
    }
   ],
   "source": [
    "# Getting coordinates\n",
    "reliable_res['coordinates']"
   ]
  },
  {
   "cell_type": "code",
   "execution_count": 97,
   "metadata": {},
   "outputs": [
    {
     "name": "stdout",
     "output_type": "stream",
     "text": [
      "(2        Chan Seattle\n",
      "8    Umma's Lunch Box\n",
      "Name: name, dtype: object, 2    {'latitude': 47.6098823547363, 'longitude': -1...\n",
      "8      {'latitude': 47.60884, 'longitude': -122.33425}\n",
      "Name: coordinates, dtype: object)\n"
     ]
    }
   ],
   "source": [
    "top2 = (reliable_res['name'], reliable_res['coordinates'])\n",
    "print(top2)"
   ]
  },
  {
   "cell_type": "code",
   "execution_count": 81,
   "metadata": {},
   "outputs": [],
   "source": [
    "# specifying restaurants lat & long \n",
    "\n",
    "chan_latitude = reliable_res['coordinates'][2]['latitude']\n",
    "chan_longitude = reliable_res['coordinates'][2]['longitude']\n",
    "\n",
    "umma_latitude = reliable_res['coordinates'][8]['latitude']\n",
    "umma_longitude = reliable_res['coordinates'][8]['longitude']\n"
   ]
  },
  {
   "cell_type": "code",
   "execution_count": 94,
   "metadata": {
    "scrolled": true
   },
   "outputs": [
    {
     "data": {
      "text/html": [
       "<div style=\"width:100%;\"><div style=\"position:relative;width:100%;height:0;padding-bottom:60%;\"><iframe src=\"data:text/html;charset=utf-8;base64,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\" style=\"position:absolute;width:100%;height:100%;left:0;top:0;border:none !important;\" allowfullscreen webkitallowfullscreen mozallowfullscreen></iframe></div></div>"
      ],
      "text/plain": [
       "<folium.folium.Map at 0x112e1dc88>"
      ]
     },
     "execution_count": 94,
     "metadata": {},
     "output_type": "execute_result"
    }
   ],
   "source": [
    "import folium\n",
    "\n",
    "# Create map object\n",
    "m = folium.Map(location=[chan_latitude, chan_longitude], zoom_start=15)\n",
    "\n",
    "# Global tooltip\n",
    "tooltip = 'Click For More Info'\n",
    "# Create markers\n",
    "folium.Marker([chan_latitude, chan_longitude], \n",
    "              popup='<strong>Chan</strong>',\n",
    "              tooltip=tooltip).add_to(m)\n",
    "folium.Marker([umma_latitude, umma_longitude], \n",
    "              popup='<strong>Umma</strong>',\n",
    "              tooltip=tooltip).add_to(m)\n",
    "\n",
    "m"
   ]
  },
  {
   "cell_type": "code",
   "execution_count": 83,
   "metadata": {
    "scrolled": true
   },
   "outputs": [
    {
     "data": {
      "text/html": [
       "<div style=\"width:100%;\"><div style=\"position:relative;width:100%;height:0;padding-bottom:60%;\"><iframe src=\"data:text/html;charset=utf-8;base64,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\" style=\"position:absolute;width:100%;height:100%;left:0;top:0;border:none !important;\" allowfullscreen webkitallowfullscreen mozallowfullscreen></iframe></div></div>"
      ],
      "text/plain": [
       "<folium.folium.Map at 0x112dc90b8>"
      ]
     },
     "execution_count": 83,
     "metadata": {},
     "output_type": "execute_result"
    }
   ],
   "source": [
    "umma_m = folium.Map(location=[umma_latitude, umma_longitude], zoom_start=15)\n",
    "tooltip = 'Click For More Info'\n",
    "folium.Marker([umma_latitude, umma_longitude], \n",
    "              popup='<strong>Location One</strong>',\n",
    "              tooltip=tooltip).add_to(umma_m)\n",
    "umma_m"
   ]
  },
  {
   "cell_type": "code",
   "execution_count": 109,
   "metadata": {},
   "outputs": [
    {
     "data": {
      "text/html": [
       "<div style=\"width:100%;\"><div style=\"position:relative;width:100%;height:0;padding-bottom:60%;\"><iframe src=\"data:text/html;charset=utf-8;base64,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\" style=\"position:absolute;width:100%;height:100%;left:0;top:0;border:none !important;\" allowfullscreen webkitallowfullscreen mozallowfullscreen></iframe></div></div>"
      ],
      "text/plain": [
       "<folium.folium.Map at 0x112f4b390>"
      ]
     },
     "execution_count": 109,
     "metadata": {},
     "output_type": "execute_result"
    }
   ],
   "source": [
    "mp = folium.Map(location=[umma_latitude, umma_longitude], zoom_start=13)\n",
    "\n",
    "for i in range(0,len(df)):\n",
    "    popup = f'''Resturant: {df.iloc[i]['name']}\n",
    "                Price: {df.iloc[i]['price']}\n",
    "                Rating: {df.iloc[i]['rating']}\n",
    "                Num_Review: {df.iloc[i]['review_count']}'''\n",
    "    folium.Marker([df.iloc[i]['coordinates']['latitude'], df.iloc[i]['coordinates']['longitude']], \n",
    "                  popup=popup).add_to(mp)\n",
    "\n",
    "mp"
   ]
  },
  {
   "cell_type": "code",
   "execution_count": null,
   "metadata": {},
   "outputs": [],
   "source": []
  },
  {
   "cell_type": "markdown",
   "metadata": {},
   "source": [
    "## Summary\n",
    "\n",
    "Nice work! In this lab, you synthesized your skills for the day, making multiple API calls to Yelp in order to paginate through a results set, performing some basic exploratory analysis and then creating a nice map visual to display the results! Well done!"
   ]
  }
 ],
 "metadata": {
  "kernelspec": {
   "display_name": "Python 3",
   "language": "python",
   "name": "python3"
  },
  "language_info": {
   "codemirror_mode": {
    "name": "ipython",
    "version": 3
   },
   "file_extension": ".py",
   "mimetype": "text/x-python",
   "name": "python",
   "nbconvert_exporter": "python",
   "pygments_lexer": "ipython3",
<<<<<<< HEAD
   "version": "3.7.0"
=======
   "version": "3.6.6"
>>>>>>> b0799a155530825d061b41c0b6bb503bf8779b63
  }
 },
 "nbformat": 4,
 "nbformat_minor": 2
}
